{
  "nbformat": 4,
  "nbformat_minor": 0,
  "metadata": {
    "colab": {
      "name": "task2.ipynb",
      "provenance": []
    },
    "kernelspec": {
      "display_name": "Python 3",
      "name": "python3"
    },
    "language_info": {
      "name": "python"
    }
  },
  "cells": [
    {
      "cell_type": "code",
      "metadata": {
        "colab": {
          "base_uri": "https://localhost:8080/"
        },
        "id": "HHE46ROk7p90",
        "outputId": "3e701ca6-46b4-4e79-a80c-a068338bc3bd"
      },
      "source": [
        "from google.colab import drive\n",
        "drive.mount('/content/drive')"
      ],
      "execution_count": 1,
      "outputs": [
        {
          "output_type": "stream",
          "text": [
            "Mounted at /content/drive\n"
          ],
          "name": "stdout"
        }
      ]
    },
    {
      "cell_type": "code",
      "metadata": {
        "id": "tXDfdsEjJC84"
      },
      "source": [
        "import numpy as np\n",
        "import pandas as pd\n",
        "from sklearn.model_selection import train_test_split\n",
        "from sklearn.linear_model import LinearRegression\n",
        "from sklearn.feature_selection import RFE\n",
        "from sklearn.linear_model import RidgeCV, LassoCV, Ridge, Lasso, MultiTaskLassoCV\n",
        "from sklearn.linear_model import LogisticRegression\n",
        "from sklearn.metrics import roc_auc_score\n",
        "from sklearn.impute import SimpleImputer\n",
        "from sklearn.svm import SVC\n",
        "from sklearn.pipeline import make_pipeline\n",
        "from sklearn.preprocessing import StandardScaler\n",
        "from sklearn.model_selection import (GridSearchCV,cross_val_score, KFold)\n",
        "from sklearn.pipeline import Pipeline\n",
        "\n",
        "\n",
        "train_features = pd.read_csv('/content/drive/MyDrive/ml_task2/train_features.csv') #X\n",
        "train_labels = pd.read_csv('/content/drive/MyDrive/ml_task2/train_labels.csv') #y\n",
        "test_features = pd.read_csv('/content/drive/MyDrive/ml_task2/test_features.csv')\n",
        "\n",
        "#train_y = train_features['y']\n",
        "#train_X = data.drop('y',axis=1)\n",
        "\n",
        "y = train_labels.sort_values(by=['pid'])\n",
        "\n",
        "y.reset_index(drop=True, inplace=True)\n",
        "y_train = y.iloc[:,0:11].drop('pid', axis=1)\n",
        "X = train_features\n",
        "#['BaseExcess', 'Fibrinogen','AST', 'Alkalinephos', 'Bilirubin_total', 'Lactate', 'TroponinI', 'SaO2', 'Bilirubin_direct', 'EtCO2']"
      ],
      "execution_count": 4,
      "outputs": []
    },
    {
      "cell_type": "markdown",
      "metadata": {
        "id": "mR-ufVNAf39f"
      },
      "source": [
        "### **Feauture selection**"
      ]
    },
    {
      "cell_type": "code",
      "metadata": {
        "id": "XyHrPh03L8Gy"
      },
      "source": [
        "X=X.interpolate(method ='linear',limit_direction='both')\n",
        "X_mean = X.groupby(['pid']).mean()\n",
        "X_last=X.groupby(['pid']).last() \n",
        "u= y_train.to_numpy(copy=True)\n",
        "\n",
        "X_test = test_features.interpolate(method ='linear',limit_direction='both')\n",
        "X_test_mean = X_test.groupby(['pid']).mean()\n",
        "X_test_last=X_test.groupby(['pid']).last() "
      ],
      "execution_count": 5,
      "outputs": []
    },
    {
      "cell_type": "markdown",
      "metadata": {
        "id": "EELEXs6af_D5"
      },
      "source": [
        "### **Subtask 1**\n",
        "Train Pipeline (This doesn't give probabilsitc values, try different method)"
      ]
    },
    {
      "cell_type": "code",
      "metadata": {
        "id": "RaUrWX_BDEuY"
      },
      "source": [
        "y_pred = np.zeros([np.size(X_test_mean,0),10])\n",
        "\n",
        "pipe = Pipeline([('scaler', StandardScaler()), ('svc', SVC())])\n",
        "for i in range(10):\n",
        "  X_train, X_test, y_train, y_test = train_test_split(X_mean, u[:,i], random_state=0)\n",
        "  pipe.fit(X_train, y_train)\n",
        "  y_pred[:,i]=pipe.predict(X_test_mean)"
      ],
      "execution_count": 6,
      "outputs": []
    },
    {
      "cell_type": "markdown",
      "metadata": {
        "id": "4Q3JPOgSvWoA"
      },
      "source": [
        "Save subtask 1\n"
      ]
    },
    {
      "cell_type": "code",
      "metadata": {
        "id": "Roy0kq6qvY0d"
      },
      "source": [
        "tests = ['LABEL_BaseExcess', 'LABEL_Fibrinogen', 'LABEL_AST', 'LABEL_Alkalinephos', 'LABEL_Bilirubin_total',\n",
        "         'LABEL_Lactate', 'LABEL_TroponinI', 'LABEL_SaO2',\n",
        "         'LABEL_Bilirubin_direct', 'LABEL_EtCO2']\n",
        "df1 = pd.DataFrame(y_pred, index=X_test_mean.index, columns=tests)"
      ],
      "execution_count": 24,
      "outputs": []
    },
    {
      "cell_type": "code",
      "metadata": {
        "id": "8SUuPYHfvVSW"
      },
      "source": [
        "df1.to_csv('subtask_1.csv')"
      ],
      "execution_count": 27,
      "outputs": []
    },
    {
      "cell_type": "markdown",
      "metadata": {
        "id": "ek7TgdItgNoy"
      },
      "source": [
        "### **Subtask 2**\n",
        "Predict Sepsis.\n",
        "\n",
        "**DID**: no feature section\n",
        "\n",
        "**TODO**: Check for (min two): abnormal body temperature, heart rate, respiratory rate, or blood gas, and white blood cell count.\n"
      ]
    },
    {
      "cell_type": "code",
      "metadata": {
        "id": "1-U5_TabgXnX"
      },
      "source": [
        "sepsis = y['LABEL_Sepsis']\n",
        "\n",
        "pipe = Pipeline([('scaler', StandardScaler()), ('svc', SVC())])\n",
        "pipe_s = pipe.fit(X_mean, sepsis)\n",
        "sepsis_pred = pipe.predict(X_test_mean)\n"
      ],
      "execution_count": 7,
      "outputs": []
    },
    {
      "cell_type": "code",
      "metadata": {
        "id": "TfEllywLuRzi"
      },
      "source": [
        "df2 = pd.DataFrame(sepsis_pred, index=X_test_mean.index, columns=['LABEL_Sepsis'])\n",
        "df2.to_csv('subtask_2.csv')"
      ],
      "execution_count": 28,
      "outputs": []
    },
    {
      "cell_type": "markdown",
      "metadata": {
        "id": "gFkUzBgukYES"
      },
      "source": [
        "### **Subtask 3**\n",
        "Regression. LABEL_RRate, LABEL_ABPm, LABEL_SpO2, LABEL_Heartrate\n",
        "\n",
        "**DID:**\n",
        "\n",
        "**TODO:**"
      ]
    },
    {
      "cell_type": "code",
      "metadata": {
        "id": "SIatCi5wkX2-"
      },
      "source": [
        "y3 = y[['LABEL_RRate', 'LABEL_ABPm', 'LABEL_SpO2', 'LABEL_Heartrate']].to_numpy(copy=True)\n",
        "\n",
        "model = RidgeCV().fit(X_last,y3)\n",
        "y3_pred = model.predict(X_test_last)"
      ],
      "execution_count": null,
      "outputs": []
    },
    {
      "cell_type": "markdown",
      "metadata": {
        "id": "kkUB8JRSdA7x"
      },
      "source": [
        "### **SAVE**"
      ]
    },
    {
      "cell_type": "code",
      "metadata": {
        "id": "VygUXQJzXPB4",
        "colab": {
          "base_uri": "https://localhost:8080/",
          "height": 439
        },
        "outputId": "d64c9cb8-5c21-4a22-d2a2-60def29f6ad8"
      },
      "source": [
        "y_pred = pd.DataFrame(y_pred)\n",
        "sepsis_pred = pd.DataFrame(sepsis_pred)\n",
        "y3_pred = pd.DataFrame(y3_pred)\n",
        "V= X_test_last.copy()\n",
        "index = pd.DataFrame(V.index)\n",
        "submission=pd.concat([index,y_pred,sepsis_pred,y3_pred],axis=1).set_axis(['pid','LABEL_BaseExcess'\t,'LABEL_Fibrinogen',\t'LABEL_AST',\t'LABEL_Alkalinephos',\t'LABEL_Bilirubin_total'\t,'LABEL_Lactate',\t'LABEL_TroponinI',\t'LABEL_SaO2',\t'LABEL_Bilirubin_direct',\t'LABEL_EtCO2',\t'LABEL_Sepsis',\t'LABEL_RRate',\t'LABEL_ABPm',\t'LABEL_SpO2',\t'LABEL_Heartrate'], axis=1)\n",
        "#df.to_csv('submission.csv')\n",
        "submission.to_csv('prediction.zip', index=False, float_format='%.3f', compression='zip')\n",
        "submission\n"
      ],
      "execution_count": null,
      "outputs": [
        {
          "output_type": "execute_result",
          "data": {
            "text/html": [
              "<div>\n",
              "<style scoped>\n",
              "    .dataframe tbody tr th:only-of-type {\n",
              "        vertical-align: middle;\n",
              "    }\n",
              "\n",
              "    .dataframe tbody tr th {\n",
              "        vertical-align: top;\n",
              "    }\n",
              "\n",
              "    .dataframe thead th {\n",
              "        text-align: right;\n",
              "    }\n",
              "</style>\n",
              "<table border=\"1\" class=\"dataframe\">\n",
              "  <thead>\n",
              "    <tr style=\"text-align: right;\">\n",
              "      <th></th>\n",
              "      <th>pid</th>\n",
              "      <th>LABEL_BaseExcess</th>\n",
              "      <th>LABEL_Fibrinogen</th>\n",
              "      <th>LABEL_AST</th>\n",
              "      <th>LABEL_Alkalinephos</th>\n",
              "      <th>LABEL_Bilirubin_total</th>\n",
              "      <th>LABEL_Lactate</th>\n",
              "      <th>LABEL_TroponinI</th>\n",
              "      <th>LABEL_SaO2</th>\n",
              "      <th>LABEL_Bilirubin_direct</th>\n",
              "      <th>LABEL_EtCO2</th>\n",
              "      <th>LABEL_Sepsis</th>\n",
              "      <th>LABEL_RRate</th>\n",
              "      <th>LABEL_ABPm</th>\n",
              "      <th>LABEL_SpO2</th>\n",
              "      <th>LABEL_Heartrate</th>\n",
              "    </tr>\n",
              "  </thead>\n",
              "  <tbody>\n",
              "    <tr>\n",
              "      <th>0</th>\n",
              "      <td>0</td>\n",
              "      <td>0.0</td>\n",
              "      <td>0.0</td>\n",
              "      <td>0.0</td>\n",
              "      <td>0.0</td>\n",
              "      <td>1.0</td>\n",
              "      <td>0.0</td>\n",
              "      <td>0.0</td>\n",
              "      <td>0.0</td>\n",
              "      <td>0.0</td>\n",
              "      <td>0.0</td>\n",
              "      <td>0.0</td>\n",
              "      <td>17.135720</td>\n",
              "      <td>83.086191</td>\n",
              "      <td>97.010189</td>\n",
              "      <td>98.513582</td>\n",
              "    </tr>\n",
              "    <tr>\n",
              "      <th>1</th>\n",
              "      <td>3</td>\n",
              "      <td>0.0</td>\n",
              "      <td>0.0</td>\n",
              "      <td>0.0</td>\n",
              "      <td>0.0</td>\n",
              "      <td>0.0</td>\n",
              "      <td>0.0</td>\n",
              "      <td>0.0</td>\n",
              "      <td>0.0</td>\n",
              "      <td>0.0</td>\n",
              "      <td>0.0</td>\n",
              "      <td>0.0</td>\n",
              "      <td>17.307031</td>\n",
              "      <td>86.528473</td>\n",
              "      <td>98.117169</td>\n",
              "      <td>89.835671</td>\n",
              "    </tr>\n",
              "    <tr>\n",
              "      <th>2</th>\n",
              "      <td>5</td>\n",
              "      <td>0.0</td>\n",
              "      <td>0.0</td>\n",
              "      <td>0.0</td>\n",
              "      <td>0.0</td>\n",
              "      <td>0.0</td>\n",
              "      <td>0.0</td>\n",
              "      <td>0.0</td>\n",
              "      <td>0.0</td>\n",
              "      <td>0.0</td>\n",
              "      <td>0.0</td>\n",
              "      <td>0.0</td>\n",
              "      <td>19.553944</td>\n",
              "      <td>74.426114</td>\n",
              "      <td>95.986770</td>\n",
              "      <td>76.499491</td>\n",
              "    </tr>\n",
              "    <tr>\n",
              "      <th>3</th>\n",
              "      <td>7</td>\n",
              "      <td>0.0</td>\n",
              "      <td>0.0</td>\n",
              "      <td>1.0</td>\n",
              "      <td>1.0</td>\n",
              "      <td>1.0</td>\n",
              "      <td>0.0</td>\n",
              "      <td>0.0</td>\n",
              "      <td>0.0</td>\n",
              "      <td>0.0</td>\n",
              "      <td>0.0</td>\n",
              "      <td>0.0</td>\n",
              "      <td>18.114315</td>\n",
              "      <td>86.143543</td>\n",
              "      <td>97.380449</td>\n",
              "      <td>90.935827</td>\n",
              "    </tr>\n",
              "    <tr>\n",
              "      <th>4</th>\n",
              "      <td>9</td>\n",
              "      <td>0.0</td>\n",
              "      <td>0.0</td>\n",
              "      <td>0.0</td>\n",
              "      <td>0.0</td>\n",
              "      <td>0.0</td>\n",
              "      <td>0.0</td>\n",
              "      <td>0.0</td>\n",
              "      <td>0.0</td>\n",
              "      <td>0.0</td>\n",
              "      <td>0.0</td>\n",
              "      <td>0.0</td>\n",
              "      <td>19.197397</td>\n",
              "      <td>93.688496</td>\n",
              "      <td>96.771115</td>\n",
              "      <td>87.666633</td>\n",
              "    </tr>\n",
              "    <tr>\n",
              "      <th>...</th>\n",
              "      <td>...</td>\n",
              "      <td>...</td>\n",
              "      <td>...</td>\n",
              "      <td>...</td>\n",
              "      <td>...</td>\n",
              "      <td>...</td>\n",
              "      <td>...</td>\n",
              "      <td>...</td>\n",
              "      <td>...</td>\n",
              "      <td>...</td>\n",
              "      <td>...</td>\n",
              "      <td>...</td>\n",
              "      <td>...</td>\n",
              "      <td>...</td>\n",
              "      <td>...</td>\n",
              "      <td>...</td>\n",
              "    </tr>\n",
              "    <tr>\n",
              "      <th>12659</th>\n",
              "      <td>31647</td>\n",
              "      <td>0.0</td>\n",
              "      <td>0.0</td>\n",
              "      <td>0.0</td>\n",
              "      <td>0.0</td>\n",
              "      <td>0.0</td>\n",
              "      <td>0.0</td>\n",
              "      <td>0.0</td>\n",
              "      <td>0.0</td>\n",
              "      <td>0.0</td>\n",
              "      <td>0.0</td>\n",
              "      <td>0.0</td>\n",
              "      <td>16.191869</td>\n",
              "      <td>81.110476</td>\n",
              "      <td>97.351311</td>\n",
              "      <td>76.154387</td>\n",
              "    </tr>\n",
              "    <tr>\n",
              "      <th>12660</th>\n",
              "      <td>31649</td>\n",
              "      <td>0.0</td>\n",
              "      <td>0.0</td>\n",
              "      <td>0.0</td>\n",
              "      <td>0.0</td>\n",
              "      <td>0.0</td>\n",
              "      <td>0.0</td>\n",
              "      <td>0.0</td>\n",
              "      <td>0.0</td>\n",
              "      <td>0.0</td>\n",
              "      <td>0.0</td>\n",
              "      <td>0.0</td>\n",
              "      <td>17.473438</td>\n",
              "      <td>90.031544</td>\n",
              "      <td>96.366755</td>\n",
              "      <td>86.771283</td>\n",
              "    </tr>\n",
              "    <tr>\n",
              "      <th>12661</th>\n",
              "      <td>31651</td>\n",
              "      <td>0.0</td>\n",
              "      <td>0.0</td>\n",
              "      <td>0.0</td>\n",
              "      <td>0.0</td>\n",
              "      <td>0.0</td>\n",
              "      <td>0.0</td>\n",
              "      <td>0.0</td>\n",
              "      <td>0.0</td>\n",
              "      <td>0.0</td>\n",
              "      <td>0.0</td>\n",
              "      <td>0.0</td>\n",
              "      <td>20.911917</td>\n",
              "      <td>79.856808</td>\n",
              "      <td>97.772779</td>\n",
              "      <td>92.641397</td>\n",
              "    </tr>\n",
              "    <tr>\n",
              "      <th>12662</th>\n",
              "      <td>31652</td>\n",
              "      <td>0.0</td>\n",
              "      <td>0.0</td>\n",
              "      <td>0.0</td>\n",
              "      <td>0.0</td>\n",
              "      <td>0.0</td>\n",
              "      <td>0.0</td>\n",
              "      <td>0.0</td>\n",
              "      <td>0.0</td>\n",
              "      <td>0.0</td>\n",
              "      <td>0.0</td>\n",
              "      <td>0.0</td>\n",
              "      <td>20.109995</td>\n",
              "      <td>87.296809</td>\n",
              "      <td>96.829522</td>\n",
              "      <td>102.738420</td>\n",
              "    </tr>\n",
              "    <tr>\n",
              "      <th>12663</th>\n",
              "      <td>31655</td>\n",
              "      <td>0.0</td>\n",
              "      <td>0.0</td>\n",
              "      <td>0.0</td>\n",
              "      <td>0.0</td>\n",
              "      <td>0.0</td>\n",
              "      <td>0.0</td>\n",
              "      <td>0.0</td>\n",
              "      <td>0.0</td>\n",
              "      <td>0.0</td>\n",
              "      <td>0.0</td>\n",
              "      <td>0.0</td>\n",
              "      <td>16.903779</td>\n",
              "      <td>80.672027</td>\n",
              "      <td>98.136794</td>\n",
              "      <td>96.720870</td>\n",
              "    </tr>\n",
              "  </tbody>\n",
              "</table>\n",
              "<p>12664 rows × 16 columns</p>\n",
              "</div>"
            ],
            "text/plain": [
              "         pid  LABEL_BaseExcess  ...  LABEL_SpO2  LABEL_Heartrate\n",
              "0          0               0.0  ...   97.010189        98.513582\n",
              "1          3               0.0  ...   98.117169        89.835671\n",
              "2          5               0.0  ...   95.986770        76.499491\n",
              "3          7               0.0  ...   97.380449        90.935827\n",
              "4          9               0.0  ...   96.771115        87.666633\n",
              "...      ...               ...  ...         ...              ...\n",
              "12659  31647               0.0  ...   97.351311        76.154387\n",
              "12660  31649               0.0  ...   96.366755        86.771283\n",
              "12661  31651               0.0  ...   97.772779        92.641397\n",
              "12662  31652               0.0  ...   96.829522       102.738420\n",
              "12663  31655               0.0  ...   98.136794        96.720870\n",
              "\n",
              "[12664 rows x 16 columns]"
            ]
          },
          "metadata": {
            "tags": []
          },
          "execution_count": 154
        }
      ]
    },
    {
      "cell_type": "markdown",
      "metadata": {
        "id": "pVFQBLaiRHdU"
      },
      "source": [
        "## **TEST SECTION**\n",
        "DONT LOOK pls"
      ]
    },
    {
      "cell_type": "code",
      "metadata": {
        "colab": {
          "base_uri": "https://localhost:8080/",
          "height": 317
        },
        "id": "0ZHL6UGhTmcA",
        "outputId": "f0e427b7-c050-49dd-d315-9127ffb62ed5"
      },
      "source": [
        "sample = pd.read_csv('/content/sample.csv')\n",
        "sample\n",
        "test_features.groupby(['pid']).last()"
      ],
      "execution_count": null,
      "outputs": [
        {
          "output_type": "error",
          "ename": "AttributeError",
          "evalue": "ignored",
          "traceback": [
            "\u001b[0;31m---------------------------------------------------------------------------\u001b[0m",
            "\u001b[0;31mAttributeError\u001b[0m                            Traceback (most recent call last)",
            "\u001b[0;32m<ipython-input-137-d15d9f6e4439>\u001b[0m in \u001b[0;36m<module>\u001b[0;34m()\u001b[0m\n\u001b[1;32m      1\u001b[0m \u001b[0msample\u001b[0m \u001b[0;34m=\u001b[0m \u001b[0mpd\u001b[0m\u001b[0;34m.\u001b[0m\u001b[0mread_csv\u001b[0m\u001b[0;34m(\u001b[0m\u001b[0;34m'/content/sample.csv'\u001b[0m\u001b[0;34m)\u001b[0m\u001b[0;34m\u001b[0m\u001b[0;34m\u001b[0m\u001b[0m\n\u001b[1;32m      2\u001b[0m \u001b[0msample\u001b[0m\u001b[0;34m\u001b[0m\u001b[0;34m\u001b[0m\u001b[0m\n\u001b[0;32m----> 3\u001b[0;31m \u001b[0mtest_features\u001b[0m\u001b[0;34m.\u001b[0m\u001b[0mgroupby\u001b[0m\u001b[0;34m(\u001b[0m\u001b[0;34m[\u001b[0m\u001b[0;34m'pid'\u001b[0m\u001b[0;34m]\u001b[0m\u001b[0;34m)\u001b[0m\u001b[0;34m.\u001b[0m\u001b[0mlast\u001b[0m\u001b[0;34m(\u001b[0m\u001b[0;34m)\u001b[0m\u001b[0;34m.\u001b[0m\u001b[0msort\u001b[0m\u001b[0;34m(\u001b[0m\u001b[0;34m)\u001b[0m\u001b[0;34m\u001b[0m\u001b[0;34m\u001b[0m\u001b[0m\n\u001b[0m",
            "\u001b[0;32m/usr/local/lib/python3.7/dist-packages/pandas/core/generic.py\u001b[0m in \u001b[0;36m__getattr__\u001b[0;34m(self, name)\u001b[0m\n\u001b[1;32m   5139\u001b[0m             \u001b[0;32mif\u001b[0m \u001b[0mself\u001b[0m\u001b[0;34m.\u001b[0m\u001b[0m_info_axis\u001b[0m\u001b[0;34m.\u001b[0m\u001b[0m_can_hold_identifiers_and_holds_name\u001b[0m\u001b[0;34m(\u001b[0m\u001b[0mname\u001b[0m\u001b[0;34m)\u001b[0m\u001b[0;34m:\u001b[0m\u001b[0;34m\u001b[0m\u001b[0;34m\u001b[0m\u001b[0m\n\u001b[1;32m   5140\u001b[0m                 \u001b[0;32mreturn\u001b[0m \u001b[0mself\u001b[0m\u001b[0;34m[\u001b[0m\u001b[0mname\u001b[0m\u001b[0;34m]\u001b[0m\u001b[0;34m\u001b[0m\u001b[0;34m\u001b[0m\u001b[0m\n\u001b[0;32m-> 5141\u001b[0;31m             \u001b[0;32mreturn\u001b[0m \u001b[0mobject\u001b[0m\u001b[0;34m.\u001b[0m\u001b[0m__getattribute__\u001b[0m\u001b[0;34m(\u001b[0m\u001b[0mself\u001b[0m\u001b[0;34m,\u001b[0m \u001b[0mname\u001b[0m\u001b[0;34m)\u001b[0m\u001b[0;34m\u001b[0m\u001b[0;34m\u001b[0m\u001b[0m\n\u001b[0m\u001b[1;32m   5142\u001b[0m \u001b[0;34m\u001b[0m\u001b[0m\n\u001b[1;32m   5143\u001b[0m     \u001b[0;32mdef\u001b[0m \u001b[0m__setattr__\u001b[0m\u001b[0;34m(\u001b[0m\u001b[0mself\u001b[0m\u001b[0;34m,\u001b[0m \u001b[0mname\u001b[0m\u001b[0;34m:\u001b[0m \u001b[0mstr\u001b[0m\u001b[0;34m,\u001b[0m \u001b[0mvalue\u001b[0m\u001b[0;34m)\u001b[0m \u001b[0;34m->\u001b[0m \u001b[0;32mNone\u001b[0m\u001b[0;34m:\u001b[0m\u001b[0;34m\u001b[0m\u001b[0;34m\u001b[0m\u001b[0m\n",
            "\u001b[0;31mAttributeError\u001b[0m: 'DataFrame' object has no attribute 'sort'"
          ]
        }
      ]
    },
    {
      "cell_type": "code",
      "metadata": {
        "id": "XaHm7IH7RFk1"
      },
      "source": [
        "import math\n",
        "X_mod=X.copy(deep=True)\n",
        "for i in range(7): #227940/12.   18995\n",
        "  for k in range(np.size(X,axis=1)):\n",
        "    for j in range(12):\n",
        "      if math.isnan(X_mod.iloc[12*i+j,k]) and j==0:\n",
        "        m=1\n",
        "        while m<11 and math.isnan(X_mod.iloc[12*i+j+m,k]):\n",
        "          m = m+1\n",
        "        X_mod.iat[12*i+j,k]=X_mod.iloc[12*i+j+m,k]\n",
        "      if math.isnan(X_mod.iloc[12*i+j,k]) and j!=0:\n",
        "        X_mod.iat[12*i+j,k]=X_mod.iloc[12*i+j-1,k]\n",
        "X_mod.head(7*12)"
      ],
      "execution_count": null,
      "outputs": []
    }
  ]
}